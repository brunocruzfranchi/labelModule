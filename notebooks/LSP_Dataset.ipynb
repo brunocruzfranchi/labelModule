{
 "cells": [
  {
   "cell_type": "markdown",
   "id": "95d2001a-7af1-4972-bd63-f16e8c46896b",
   "metadata": {
    "tags": [],
    "pycharm": {
     "name": "#%% md\n"
    }
   },
   "source": [
    "## Leeds Sports Pose Dataset"
   ]
  },
  {
   "cell_type": "code",
   "execution_count": 1,
   "id": "e16251ba-9d6f-4dc0-adfc-9738a8ec8f66",
   "metadata": {
    "pycharm": {
     "name": "#%%\n"
    }
   },
   "outputs": [],
   "source": [
    "import os\n",
    "import scipy.io\n",
    "import numpy as np\n",
    "import matplotlib.pyplot as plt"
   ]
  },
  {
   "cell_type": "code",
   "execution_count": 2,
   "id": "af47177c-53d8-41ae-b5d9-3f5fd099dbe8",
   "metadata": {
    "pycharm": {
     "name": "#%%\n"
    }
   },
   "outputs": [],
   "source": [
    "# PATH_DATASET = './dataset/'\n",
    "# PATH_IMAGES = './dataset/images/'\n",
    "# PATH_ANNO = './dataset/annotations/joints.mat'\n",
    "PATH_DATASET = './dataset/'\n",
    "PATH_IMAGES = './dataset/resize_images/'\n",
    "PATH_ANNO = './dataset/resize_annotations/new_joints.mat'"
   ]
  },
  {
   "cell_type": "markdown",
   "id": "e72b6a3c-df1f-4427-93c8-d083ad3f2ae3",
   "metadata": {
    "tags": [],
    "pycharm": {
     "name": "#%% md\n"
    }
   },
   "source": [
    "### Obtención de datos"
   ]
  },
  {
   "cell_type": "code",
   "execution_count": 6,
   "id": "92399436-f805-4937-bd04-99500eef543c",
   "metadata": {
    "pycharm": {
     "name": "#%%\n"
    }
   },
   "outputs": [],
   "source": [
    "# Traspongo la matriz almacenada en el joints.mat para obtener una matriz (2000,14,3)\n",
    "annotations = scipy.io.loadmat(PATH_ANNO)['joints']"
   ]
  },
  {
   "cell_type": "code",
   "execution_count": 7,
   "id": "e3f2f079-fef1-4029-aede-26eedb66aba4",
   "metadata": {
    "pycharm": {
     "name": "#%%\n"
    }
   },
   "outputs": [
    {
     "data": {
      "text/plain": [
       "numpy.ndarray"
      ]
     },
     "execution_count": 7,
     "metadata": {},
     "output_type": "execute_result"
    }
   ],
   "source": [
    "type(annotations)"
   ]
  },
  {
   "cell_type": "code",
   "execution_count": 8,
   "id": "d6a2ff15-0174-4bed-9a20-e88980f37926",
   "metadata": {
    "pycharm": {
     "name": "#%%\n"
    }
   },
   "outputs": [
    {
     "data": {
      "text/plain": [
       "(2000, 14, 3)"
      ]
     },
     "execution_count": 8,
     "metadata": {},
     "output_type": "execute_result"
    }
   ],
   "source": [
    "annotations.shape"
   ]
  },
  {
   "cell_type": "code",
   "execution_count": 9,
   "id": "e626a09b-1064-4703-8643-a5178363b85d",
   "metadata": {
    "pycharm": {
     "name": "#%%\n"
    }
   },
   "outputs": [],
   "source": [
    "new_annotation = []\n",
    "for annotation in annotations:\n",
    "    new_coor = []\n",
    "    for coor in annotation:\n",
    "        new_coor.append(np.where(coor == 0, 2, coor))\n",
    "    new_annotation.append(np.array(new_coor))"
   ]
  },
  {
   "cell_type": "code",
   "execution_count": 10,
   "id": "08e337e1-1320-413f-aca8-6563e3b4e85e",
   "metadata": {
    "pycharm": {
     "name": "#%%\n"
    }
   },
   "outputs": [
    {
     "data": {
      "text/plain": [
       "(2000, 14, 3)"
      ]
     },
     "execution_count": 10,
     "metadata": {},
     "output_type": "execute_result"
    }
   ],
   "source": [
    "np.array(new_annotation).shape"
   ]
  },
  {
   "cell_type": "code",
   "execution_count": 11,
   "id": "7f170a5b-6670-4144-b1b7-46b7f9f85760",
   "metadata": {
    "pycharm": {
     "name": "#%%\n"
    }
   },
   "outputs": [
    {
     "data": {
      "text/plain": [
       "array([[ 57.95283019, 270.63152053,   2.        ],\n",
       "       [ 59.46448391, 221.50277469,   2.        ],\n",
       "       [ 56.44117647, 160.28079911,   2.        ],\n",
       "       [ 82.89511654, 161.03662597,   2.        ],\n",
       "       [ 81.38346282, 210.16537181,   2.        ],\n",
       "       [ 82.13928968, 250.9800222 ,   2.        ],\n",
       "       [ 48.12708102, 100.57047725,   2.        ],\n",
       "       [ 30.74306326, 119.46614872,   2.        ],\n",
       "       [ 47.37125416,  80.16315205,   2.        ],\n",
       "       [ 97.25582686,  83.94228635,   2.        ],\n",
       "       [101.03496115, 111.90788013,   2.        ],\n",
       "       [103.30244173, 111.90788013,   2.        ],\n",
       "       [ 73.82519423,  68.82574917,   2.        ],\n",
       "       [ 75.33684795,  30.27857936,   2.        ]])"
      ]
     },
     "execution_count": 11,
     "metadata": {},
     "output_type": "execute_result"
    }
   ],
   "source": [
    "np.array(new_annotation)[0]"
   ]
  },
  {
   "cell_type": "code",
   "execution_count": 12,
   "id": "f2f200ae-32e9-426b-987b-cc35f3576de7",
   "metadata": {
    "pycharm": {
     "name": "#%%\n"
    }
   },
   "outputs": [],
   "source": [
    "arr_annotation = np.array(new_annotation)"
   ]
  },
  {
   "cell_type": "code",
   "execution_count": 13,
   "id": "38636a33-8fdd-4dbf-9d3d-4adc45d4f533",
   "metadata": {
    "pycharm": {
     "name": "#%%\n"
    }
   },
   "outputs": [
    {
     "data": {
      "text/plain": [
       "(2000, 14, 3)"
      ]
     },
     "execution_count": 13,
     "metadata": {},
     "output_type": "execute_result"
    }
   ],
   "source": [
    "arr_annotation.shape"
   ]
  },
  {
   "cell_type": "code",
   "execution_count": 14,
   "id": "ac1ab521-baf0-4fe0-9f56-706403523f5d",
   "metadata": {
    "pycharm": {
     "name": "#%%\n"
    }
   },
   "outputs": [],
   "source": [
    "# Funcion para la obtencion de todas las direcciones de las imagenes\n",
    "def get_imagesPath(directory):\n",
    "    files = [os.path.join(directory, f) for f in os.listdir(directory) \n",
    "             if os.path.isfile(os.path.join(directory, f))]\n",
    "    return files"
   ]
  },
  {
   "cell_type": "code",
   "execution_count": 15,
   "id": "441e7abd-0d5f-4fa9-b393-ae0bab0b7506",
   "metadata": {
    "pycharm": {
     "name": "#%%\n"
    }
   },
   "outputs": [],
   "source": [
    "imgs_path = get_imagesPath(PATH_IMAGES)"
   ]
  },
  {
   "cell_type": "code",
   "execution_count": 16,
   "id": "1a2c8d58-9e54-4ef2-a2de-f7c55ef49910",
   "metadata": {
    "pycharm": {
     "name": "#%%\n"
    }
   },
   "outputs": [
    {
     "data": {
      "text/plain": [
       "(2000,)"
      ]
     },
     "execution_count": 16,
     "metadata": {},
     "output_type": "execute_result"
    }
   ],
   "source": [
    "np.shape(imgs_path)"
   ]
  },
  {
   "cell_type": "markdown",
   "id": "7f40ca16-c8dc-420f-a281-7ce32303e461",
   "metadata": {
    "tags": [],
    "pycharm": {
     "name": "#%% md\n"
    }
   },
   "source": [
    "### Plot de los datos registrados"
   ]
  },
  {
   "cell_type": "code",
   "execution_count": 17,
   "id": "041fe74b-a7fc-4112-8022-af66781e3396",
   "metadata": {
    "pycharm": {
     "name": "#%%\n"
    }
   },
   "outputs": [],
   "source": [
    "def plot_img(img_path, dpi = 100):\n",
    "    img = plt.imread(img_path)\n",
    "    plt.figure(figsize=(np.shape(img)[0]/dpi, np.shape(img)[1]/dpi), dpi=dpi)\n",
    "    plt.imshow(img)"
   ]
  },
  {
   "cell_type": "code",
   "execution_count": 18,
   "id": "01530ba8-05b0-4309-929a-440eb709f5ca",
   "metadata": {
    "pycharm": {
     "name": "#%%\n"
    }
   },
   "outputs": [],
   "source": [
    "def plot_keypoints(keypoints_list):\n",
    "    for keypoints in keypoints_list:\n",
    "        plt.scatter(x = keypoints[0], y = keypoints[1], s = 6, color=['red'])"
   ]
  },
  {
   "cell_type": "code",
   "execution_count": 19,
   "id": "590d3c55-d9d4-41a3-b6f9-da60ad62bf10",
   "metadata": {
    "pycharm": {
     "name": "#%%\n"
    }
   },
   "outputs": [],
   "source": [
    "# Esto es para dividir entre la coordenadas de los keypoints y la visibilidad del mismo\n",
    "# coordenadas = annotations[:-1]\n",
    "# visibility = annotations[2]"
   ]
  },
  {
   "cell_type": "code",
   "execution_count": 20,
   "id": "1b12f613-3347-4c81-9df2-7f43ce8b64fb",
   "metadata": {
    "pycharm": {
     "name": "#%%\n"
    }
   },
   "outputs": [],
   "source": [
    "ID = 0"
   ]
  },
  {
   "cell_type": "code",
   "execution_count": 21,
   "id": "8849ae38-6582-4967-8cb1-385419d14383",
   "metadata": {
    "pycharm": {
     "name": "#%%\n"
    }
   },
   "outputs": [
    {
     "data": {
      "image/png": "[encoded data removed]",
      "text/plain": [
       "<Figure size 300x133 with 1 Axes>"
      ]
     },
     "metadata": {},
     "output_type": "display_data"
    }
   ],
   "source": [
    "plot_img(imgs_path[ID])"
   ]
  },
  {
   "cell_type": "code",
   "execution_count": 22,
   "id": "1693963c-4552-4c2e-b7e5-9323dafc7fe0",
   "metadata": {
    "tags": [],
    "pycharm": {
     "name": "#%%\n"
    }
   },
   "outputs": [
    {
     "data": {
      "image/png": "[encoded data removed]",
      "text/plain": [
       "<Figure size 640x480 with 1 Axes>"
      ]
     },
     "metadata": {},
     "output_type": "display_data"
    }
   ],
   "source": [
    "plot_keypoints(annotations[ID])"
   ]
  },
  {
   "cell_type": "code",
   "execution_count": 23,
   "id": "fd697583-3af1-4e2c-97e4-c854b8761e57",
   "metadata": {
    "pycharm": {
     "name": "#%%\n"
    }
   },
   "outputs": [],
   "source": [
    "def plot_img_with_keypoints(img_path, keypoints):\n",
    "    plot_img(img_path)\n",
    "    plot_keypoints(keypoints)"
   ]
  },
  {
   "cell_type": "code",
   "execution_count": 24,
   "id": "63b41dc5-a4b5-423e-a7a8-3d45fdb56230",
   "metadata": {
    "pycharm": {
     "name": "#%%\n"
    }
   },
   "outputs": [
    {
     "data": {
      "image/png": "[encoded data removed]",
      "text/plain": [
       "<Figure size 300x133 with 1 Axes>"
      ]
     },
     "metadata": {},
     "output_type": "display_data"
    }
   ],
   "source": [
    "ID = 0\n",
    "plot_img_with_keypoints(imgs_path[ID], annotations[ID])"
   ]
  },
  {
   "cell_type": "code",
   "execution_count": 25,
   "id": "4a27ae1f-6a25-47a1-87d1-34a183f40f3d",
   "metadata": {
    "pycharm": {
     "name": "#%%\n"
    }
   },
   "outputs": [],
   "source": [
    "# Terminar de generar la funcion para que muestren diferentes imagenes de ejemplo\n",
    "import random\n",
    "from random import randrange\n",
    "\n",
    "def subplot_train_imgs(cant_imgs, img_path, keypoints):\n",
    "    idx = [x for x in range(2000)]\n",
    "    unique = random.sample(idx , k = cant_imgs)\n",
    "    return unique"
   ]
  },
  {
   "cell_type": "code",
   "execution_count": 26,
   "id": "5e39da3e-e7f0-4c50-bf9e-91084f3c2255",
   "metadata": {
    "pycharm": {
     "name": "#%%\n"
    }
   },
   "outputs": [
    {
     "data": {
      "text/plain": [
       "[228, 577, 1976, 494, 635, 468, 1971, 288, 1913, 1784]"
      ]
     },
     "execution_count": 26,
     "metadata": {},
     "output_type": "execute_result"
    }
   ],
   "source": [
    "x = subplot_train_imgs(10, imgs_path, annotations)\n",
    "x"
   ]
  },
  {
   "cell_type": "markdown",
   "id": "d9b19415-2981-49c2-89e8-256b7a60c8eb",
   "metadata": {
    "tags": [],
    "pycharm": {
     "name": "#%% md\n"
    }
   },
   "source": [
    "### Conversión de las anotaciones a formato COCO"
   ]
  },
  {
   "cell_type": "markdown",
   "id": "ac5205de-43fb-42ce-9be3-ddf148e701c5",
   "metadata": {
    "tags": [],
    "pycharm": {
     "name": "#%% md\n"
    }
   },
   "source": [
    "La anotación utilizada por COCO se puede ver en el siguiente [link](https://cocodataset.org/#format-data).\n",
    "Dentro del formato COCO podemos encontrar:\n",
    "\n",
    "\n",
    "{\n",
    "\"info\": info, \"images\": [image], \"annotations\": [annotation], \"licenses\": [license],\n",
    "}\n",
    "\n",
    "info{\n",
    "\"year\": int, \"version\": str, \"description\": str, \"contributor\": str, \"url\": str, \"date_created\": datetime,\n",
    "}\n",
    "\n",
    "**image{\n",
    "\"id\": int, \"width\": int, \"height\": int, \"file_name\": str, \"license\": int, \"flickr_url\": str, \"coco_url\": str, \"date_captured\": datetime,\n",
    "}**\n",
    "\n",
    "license{\n",
    "\"id\": int, \"name\": str, \"url\": str,\n",
    "}\n",
    "\n",
    "**annotation{\n",
    "\"id\": int, \"image_id\": int, \"category_id\": int, \"segmentation\": RLE or [polygon], \"area\": float, \"bbox\": [x,y,width,height], \"iscrowd\": 0 or 1,\n",
    "}**\n",
    "\n",
    "categories[{\n",
    "\"id\": int, \"name\": str, \"supercategory\": str,\n",
    "}]\n",
    "\n",
    "Links de referencia:\n",
    "* [Custom COCO Dataset](https://www.immersivelimit.com/tutorials/create-coco-annotations-from-scratch/#create-custom-coco-dataset)\n",
    "* [1](https://github.com/jonathanstaniforth/coco-annotation-generator)\n",
    "* [2](https://github.com/Tony607/labelme2coco/blob/master/labelme2coco.py)\n",
    "* [3](https://github.com/jsbroks/coco-annotator)\n",
    "* [4](https://www.kaggle.com/code/mistag/sartorius-create-coco-annotations)\n",
    "* [5](https://www.dlology.com/blog/how-to-create-custom-coco-data-set-for-instance-segmentation/)\n",
    "* [6](https://github.com/Tony607/mmdetection_instance_segmentation_demo/blob/master/mmdetection_train_custom_coco_data_segmentation.ipynb)\n",
    "* [7](https://github.com/open-mmlab/mmdetection)\n",
    "* [8](https://towardsdatascience.com/8-tips-for-object-oriented-programming-in-python-3e98b767ae79)"
   ]
  },
  {
   "cell_type": "code",
   "execution_count": 27,
   "id": "024081d5-759f-4d63-8907-11ca55a1c28b",
   "metadata": {
    "tags": [],
    "pycharm": {
     "name": "#%%\n"
    }
   },
   "outputs": [],
   "source": [
    "import json\n",
    "\n",
    "class COCO:\n",
    "    def __init__(self):\n",
    "        self._info = {}\n",
    "        self._licenses = []\n",
    "        self._images = []\n",
    "        self._annotations = []\n",
    "        self._categories = []\n",
    "    \n",
    "    def setInfo(self, info):\n",
    "        self._info = info\n",
    "    \n",
    "    def addLicense(self, license):\n",
    "        self._licenses.append(license)\n",
    "\n",
    "    def addImage(self, image):\n",
    "        self._images.append(image)\n",
    "    \n",
    "    def addAnnotation(self, annotation):\n",
    "        self._annotations.append(annotation)\n",
    "    \n",
    "    def addCategorie(self, categories):\n",
    "        self._categories.append(categories)\n",
    "        \n",
    "    def getLicense(self):\n",
    "        return self._licenses[0]\n",
    "    \n",
    "    def toJson(self):\n",
    "        annotations = []\n",
    "        categories = []\n",
    "        licenses = []\n",
    "        images = []\n",
    "\n",
    "        # Convert images to JSON\n",
    "        for image in self._images:\n",
    "            images.append(image.toJson())\n",
    "\n",
    "        # Convert licenses to Json\n",
    "        for license in self._licenses:\n",
    "            licenses.append(license.toJson())\n",
    "\n",
    "        # Convert annotations\n",
    "        for annotation in self._annotations:\n",
    "            annotations.append(annotation.toJson())\n",
    "\n",
    "        # Convert categories\n",
    "        for category in self._categories:\n",
    "                categories.append(category.toJson())\n",
    "\n",
    "        return {\n",
    "            'info': self._info.toJson(),\n",
    "            'licenses': licenses,\n",
    "            'images': images,\n",
    "            'annotations': annotations,\n",
    "            'categories': categories \n",
    "        }\n",
    "    \n",
    "    def exportJson(self, outputPath, fileName):\n",
    "        # os.getcwd() Obtains actual workplace path\n",
    "        with open(outputPath + fileName, 'w', encoding='utf-8') as f:\n",
    "            json.dump(self.toJson(), f, ensure_ascii=False, indent=4)"
   ]
  },
  {
   "cell_type": "code",
   "execution_count": 28,
   "id": "6ff14498-c9c3-4b8b-af9c-3b315df2d4d1",
   "metadata": {
    "tags": [],
    "pycharm": {
     "name": "#%%\n"
    }
   },
   "outputs": [],
   "source": [
    "# info{ \"year\": int, \"version\": str, \"description\": str, \"contributor\": str, \"url\": str, \"date_created\": datetime, }\n",
    "class Info:\n",
    "    def __init__(self, year: int, version: str, description: str, contributor: str, url: str, date_created):\n",
    "        self._year = year\n",
    "        self._version = version\n",
    "        self._description = description\n",
    "        self._contributor = contributor\n",
    "        self._url = url\n",
    "        self._date_created = date_created \n",
    "    \n",
    "    def toJson(self):\n",
    "        return {\n",
    "            'year': self._year,\n",
    "            'version': self._version,\n",
    "            'description': self._description,\n",
    "            'contributor': self._contributor,\n",
    "            'url': self._url,\n",
    "            'date_created': self._date_created\n",
    "        }"
   ]
  },
  {
   "cell_type": "code",
   "execution_count": 29,
   "id": "76875326-96ec-4d39-8f8e-0f52ecc9b0fb",
   "metadata": {
    "jupyter": {
     "source_hidden": true
    },
    "tags": [],
    "pycharm": {
     "name": "#%%\n"
    }
   },
   "outputs": [],
   "source": [
    "#license{ \"id\": int, \"name\": str, \"url\": str, }\n",
    "class License:\n",
    "    def __init__(self, license_id: int, name: str, url: str):\n",
    "        self.id = license_id\n",
    "        self.name = name\n",
    "        self.url = url\n",
    "        \n",
    "    def getId(self):\n",
    "        return self.id\n",
    "    \n",
    "    def toJson(self):\n",
    "        return {\n",
    "            'id': self.id,\n",
    "            'name': self.name,\n",
    "            'url': self.url\n",
    "        }"
   ]
  },
  {
   "cell_type": "code",
   "execution_count": 30,
   "id": "b0120ae4-c5c6-4e7e-a508-e5c815e0a743",
   "metadata": {
    "jupyter": {
     "source_hidden": true
    },
    "tags": [],
    "pycharm": {
     "name": "#%%\n"
    }
   },
   "outputs": [],
   "source": [
    "# categories[{ \"id\": int, \"name\": str, \"supercategory\": str, \"keypoints\": [str], \"skeleton\": [edge],}]\n",
    "class Categories:\n",
    "    def __init__(self, category_id: int, name: str, supercategory: str, keypoints, skeleton):\n",
    "        self.category_id = category_id\n",
    "        self.name = name\n",
    "        self.supercategory = supercategory\n",
    "        self.keypoints = keypoints\n",
    "        self.skeleton = skeleton\n",
    "    \n",
    "    def toJson(self):\n",
    "        return {\n",
    "            'id': self.category_id,\n",
    "            'name': self.name,\n",
    "            'supercategory': self.supercategory,\n",
    "            'keypoints': self.keypoints,\n",
    "            'skeleton': self.skeleton\n",
    "        }"
   ]
  },
  {
   "cell_type": "code",
   "execution_count": 31,
   "id": "3217a6a9-b993-4486-880c-b6e7c5ac8767",
   "metadata": {
    "jupyter": {
     "source_hidden": true
    },
    "tags": [],
    "pycharm": {
     "name": "#%%\n"
    }
   },
   "outputs": [],
   "source": [
    "# image{ \"id\": int, \"width\": int, \"height\": int, \"file_name\": str, \"license\": int, \"flickr_url\": str, \"coco_url\": str, \"date_captured\": datetime, }\n",
    "class ImageCOCO:\n",
    "    def __init__(self, image_id: int, width: int, height: int, file_name: str, license: int, flick_url: str, coco_url: str, date_captured):\n",
    "        self.id = image_id\n",
    "        self.width = width\n",
    "        self.height = height\n",
    "        self.file_name = file_name\n",
    "        self.license = license\n",
    "        self.flickr_url = ''\n",
    "        self.coco_url = ''\n",
    "        self.date_captured = date_captured\n",
    "        \n",
    "    def getId(self):\n",
    "        return self.id\n",
    "    \n",
    "    def toJson(self):\n",
    "        return {\n",
    "            'id': self.id,\n",
    "            'width': self.width,\n",
    "            'height': self.height,\n",
    "            'file_name': self.file_name,\n",
    "            'license': self.license,\n",
    "            'flickr_url': self.flickr_url,\n",
    "            'coco_url': self.coco_url,\n",
    "            'date_captured': self.date_captured\n",
    "        }"
   ]
  },
  {
   "cell_type": "code",
   "execution_count": 32,
   "id": "fe379639-9c5f-41ae-930d-c8237735cf3f",
   "metadata": {
    "jupyter": {
     "source_hidden": true
    },
    "tags": [],
    "pycharm": {
     "name": "#%%\n"
    }
   },
   "outputs": [],
   "source": [
    "# annotation{ \"id\": int, \"image_id\": int, \"category_id\": int, \"segmentation\": RLE or [polygon], \"area\": float, \"bbox\": [x,y,width,height], \"iscrowd\": 0 or 1, \n",
    "# \"keypoints\": [x1,y1,v1,...], \"num_keypoints\": int}\n",
    "class Annotation:\n",
    "    def __init__(self, annotation_id: int, image_id: int, category_id: int, segmentation, area: float, bbox, iscrowd: int, keypoints, num_keypoints: int):\n",
    "        self.id = annotation_id\n",
    "        self.image_id = image_id\n",
    "        self.category_id = category_id\n",
    "        self.segmentation = segmentation \n",
    "        self.area = area\n",
    "        self.bbox = bbox\n",
    "        self.iscrowd = iscrowd\n",
    "        self.keypoints = keypoints\n",
    "        self.num_keypoints = num_keypoints\n",
    "    \n",
    "    def toJson(self):\n",
    "        return {\n",
    "            'id': self.id,\n",
    "            'image_id': self.image_id,\n",
    "            'category_id': self.category_id,\n",
    "            'segmentation': self.segmentation,\n",
    "            'area': self.area,\n",
    "            'bbox': self.bbox,\n",
    "            'iscrowds': self.iscrowd,\n",
    "            'keypoints': self.keypoints,\n",
    "            'num_keypoints': self.num_keypoints\n",
    "        }\n"
   ]
  },
  {
   "cell_type": "code",
   "execution_count": 33,
   "id": "d5bf9cfa-7af2-456b-853d-e700de1da8f0",
   "metadata": {
    "jupyter": {
     "source_hidden": true
    },
    "tags": [],
    "pycharm": {
     "name": "#%%\n"
    }
   },
   "outputs": [],
   "source": [
    "from datetime import datetime\n",
    "currentDateTime = datetime.now().strftime('%Y-%m-%d')\n",
    "coco = COCO()\n",
    "coco.setInfo(Info(2022, \"1.0.0\", \"LSP_COCO_Dataset\", \"\", \"\", currentDateTime))\n",
    "coco.addLicense(License(1, 'Hospital Italiano', 'https://www.hospitalitaliano.org.ar'))\n",
    "coco.addCategorie(Categories(1, 'person', 'person', \n",
    "                             ['Right ankle', 'Right knee', 'Right hip', 'Left hip', 'Left knee', 'Left ankle', \n",
    "                              'Right wrist', 'Right elbow', 'Right shoulder', 'Left shoulder', 'Left elbow', 'Left wrist', \n",
    "                              'Neck', 'Head top'], \n",
    "                             [[1, 2], [2, 3], [3, 4], [4, 5], [5, 6], \n",
    "                              [7, 8], [8, 9], [9, 10], [10, 11], [11, 12],\n",
    "                              [14, 13], [9, 13], [10, 13],\n",
    "                              [3, 9], [4, 10]]))                        "
   ]
  },
  {
   "cell_type": "code",
   "execution_count": 72,
   "id": "881d5b02-fd41-4069-9863-e78c496474b1",
   "metadata": {
    "pycharm": {
     "name": "#%%\n"
    }
   },
   "outputs": [
    {
     "data": {
      "text/plain": [
       "'./dataset/resize_images/im0001.jpg'"
      ]
     },
     "execution_count": 72,
     "metadata": {},
     "output_type": "execute_result"
    }
   ],
   "source": [
    "imgs_path[0]"
   ]
  },
  {
   "cell_type": "code",
   "execution_count": 73,
   "id": "215ab284-9c52-48ab-9962-f9adc3abbe0f",
   "metadata": {
    "pycharm": {
     "name": "#%%\n"
    }
   },
   "outputs": [
    {
     "data": {
      "text/plain": [
       "1"
      ]
     },
     "execution_count": 73,
     "metadata": {},
     "output_type": "execute_result"
    }
   ],
   "source": [
    "int(((imgs_path[0].split('/')[-1]).split('.', 1)[0]).replace('im', ''))"
   ]
  },
  {
   "cell_type": "code",
   "execution_count": 74,
   "id": "d75e680b-ab3f-4071-9a43-3377d24ee14c",
   "metadata": {
    "pycharm": {
     "name": "#%%\n"
    }
   },
   "outputs": [],
   "source": [
    "from PIL import Image"
   ]
  },
  {
   "cell_type": "code",
   "execution_count": 77,
   "id": "7f013b23-7acb-4874-8a28-a4d1257cadfc",
   "metadata": {
    "pycharm": {
     "name": "#%%\n"
    }
   },
   "outputs": [
    {
     "ename": "IndentationError",
     "evalue": "unexpected indent (144058691.py, line 2)",
     "output_type": "error",
     "traceback": [
      "\u001B[1;36m  Input \u001B[1;32mIn [77]\u001B[1;36m\u001B[0m\n\u001B[1;33m    im.show()\u001B[0m\n\u001B[1;37m    ^\u001B[0m\n\u001B[1;31mIndentationError\u001B[0m\u001B[1;31m:\u001B[0m unexpected indent\n"
     ]
    }
   ],
   "source": [
    "# with Image.open(imgs_path[0]).show() as im:\n",
    "#    im.show()"
   ]
  },
  {
   "cell_type": "code",
   "execution_count": 43,
   "id": "c673a85a-6aa7-481d-912a-e75ea3610e47",
   "metadata": {
    "tags": [],
    "pycharm": {
     "name": "#%%\n"
    }
   },
   "outputs": [],
   "source": [
    "train_annotation = annotations[:int(len(annotations)*0.8)][0]"
   ]
  },
  {
   "cell_type": "code",
   "execution_count": 44,
   "id": "5a1e097e-1020-401a-8a2f-54836ef38e58",
   "metadata": {
    "pycharm": {
     "name": "#%%\n"
    }
   },
   "outputs": [],
   "source": [
    "test_annotation = annotations[int(len(annotations)*0.8):][0]"
   ]
  },
  {
   "cell_type": "code",
   "execution_count": 45,
   "id": "2f0eff0c-6095-488e-8b08-deae784f6729",
   "metadata": {
    "pycharm": {
     "name": "#%%\n"
    }
   },
   "outputs": [],
   "source": [
    "keypoints_original_flattened = [el for kp in annotations[0] for el in kp]"
   ]
  },
  {
   "cell_type": "code",
   "execution_count": 83,
   "id": "5a5d2f96-adb2-44e3-bedf-928203d8db31",
   "metadata": {
    "pycharm": {
     "name": "#%%\n"
    }
   },
   "outputs": [
    {
     "name": "stdout",
     "output_type": "stream",
     "text": [
      "300\n"
     ]
    }
   ],
   "source": [
    "NUM_KEYPOINTS = 14\n",
    "annotationNumber = 1\n",
    "\n",
    "for imageFile in imgs_path:\n",
    "    \n",
    "    # Extract ID from file name\n",
    "    fileId = int(((imageFile.split('/')[-1]).split('.', 1)[0]).replace('im', ''))\n",
    "    \n",
    "    # Create image\n",
    "    image = Image.open(imageFile)\n",
    "    width, height = image.size\n",
    "\n",
    "    cocoImage = ImageCOCO(fileId, width, height, imageFile.split('/')[-1], coco.getLicense().getId(), '', '', currentDateTime)\n",
    "    coco.addImage(cocoImage)\n",
    "\n",
    "    # Create annotation for image\n",
    "    annotation = Annotation(annotationNumber, cocoImage.getId(), 1, [], 0.00, [], 0, [el for kp in annotations[annotationNumber-1] for el in kp], NUM_KEYPOINTS)\n",
    "    coco.addAnnotation(annotation)\n",
    "    annotationNumber += 1\n",
    "    break"
   ]
  },
  {
   "cell_type": "code",
   "execution_count": 84,
   "id": "f28034cb-05ec-417c-9275-cc4f69d719a2",
   "metadata": {
    "pycharm": {
     "name": "#%%\n"
    }
   },
   "outputs": [],
   "source": [
    "from datetime import datetime\n",
    "\n",
    "def create_COCO(imagesPath, annotations, number_keypoints):\n",
    "    \"\"\"\n",
    "    \n",
    "    \"\"\"\n",
    "    currentDateTime = datetime.now().strftime('%Y-%m-%d')\n",
    "    coco = COCO()\n",
    "    coco.setInfo(Info(2022, \"1.0.0\", \"LSP_COCO_Dataset\", \"\", \"\", currentDateTime))\n",
    "    coco.addLicense(License(1, 'Hospital Italiano', 'https://www.hospitalitaliano.org.ar'))\n",
    "    coco.addCategorie(Categories(1, 'person', 'person', \n",
    "                             ['Right ankle', 'Right knee', 'Right hip', 'Left hip', 'Left knee', 'Left ankle', \n",
    "                              'Right wrist', 'Right elbow', 'Right shoulder', 'Left shoulder', 'Left elbow', 'Left wrist', \n",
    "                              'Neck', 'Head top'], \n",
    "                             [[1, 2], [2, 3], [3, 4], [4, 5], [5, 6], \n",
    "                              [7, 8], [8, 9], [9, 10], [10, 11], [11, 12],\n",
    "                              [14, 13], [9, 13], [10, 13],\n",
    "                              [3, 9], [4, 10]]))\n",
    "    new_annotation = []\n",
    "    \n",
    "    for annotation in annotations:\n",
    "        new_coor = []\n",
    "        for coor in annotation:\n",
    "            new_coor.append(np.where(coor == 0, 2, coor))\n",
    "        new_annotation.append(np.array(new_coor))\n",
    "    \n",
    "    \n",
    "    annotationNumber = 1\n",
    "\n",
    "    for imageFile in imagesPath:\n",
    "        # Extract ID from file name\n",
    "        fileId = int(((imageFile.split('/')[-1]).split('.', 1)[0]).replace('im', ''))\n",
    "\n",
    "        # Create image\n",
    "        image = Image.open(imageFile)\n",
    "        width, height = image.size\n",
    "\n",
    "        cocoImage = ImageCOCO(fileId, width, height, imageFile.split('/')[-1], coco.getLicense().getId(), '', '', currentDateTime)\n",
    "        coco.addImage(cocoImage)\n",
    "\n",
    "        # Create annotation for image\n",
    "        annotation = Annotation(annotationNumber, cocoImage.getId(), 1, [], 0.00, [], 0, [el for kp in new_annotation[annotationNumber-1] for el in kp], NUM_KEYPOINTS)\n",
    "        coco.addAnnotation(annotation)\n",
    "        annotationNumber += 1\n",
    "    \n",
    "    return coco"
   ]
  },
  {
   "cell_type": "code",
   "execution_count": 91,
   "id": "593848a5-b490-4948-af3c-89ba3e28003f",
   "metadata": {
    "pycharm": {
     "name": "#%%\n"
    }
   },
   "outputs": [],
   "source": [
    "imgs_path = get_imagesPath(PATH_IMAGES)"
   ]
  },
  {
   "cell_type": "code",
   "execution_count": 95,
   "id": "cedd3003-0f23-42d0-a3e5-a457f46d2947",
   "metadata": {
    "pycharm": {
     "name": "#%%\n"
    }
   },
   "outputs": [],
   "source": [
    "# Variables\n",
    "imgs_path = get_imagesPath(PATH_IMAGES)\n",
    "annotations = scipy.io.loadmat(PATH_ANNO)['joints']\n",
    "NUM_KEYPOINTS = 14\n",
    "\n",
    "# Train, Val, and Test Split\n",
    "idx_train = [x for x in range(int(len(annotations)*0.7))]\n",
    "idx_val = [x+1400 for x in range(int(len(annotations)*0.1))]\n",
    "idx_test = [x+1600 for x in range(int(len(annotations)*0.2))]\n",
    "\n",
    "\n",
    "# Train dataset\n",
    "LSP_COCO_Train_Dataset = create_COCO(list(np.array(imgs_path)[idx_train]), annotations[idx_train], NUM_KEYPOINTS)\n",
    "LSP_COCO_Train_Dataset.exportJson('./dataset/resize_annotations/', 'train_cocoAnnotation.json')\n",
    "\n",
    "# Test dataset\n",
    "LSP_COCO_Val_Dataset = create_COCO(list(np.array(imgs_path)[idx_val]), annotations[idx_val], NUM_KEYPOINTS)\n",
    "LSP_COCO_Val_Dataset.exportJson('./dataset/resize_annotations/', 'val_cocoAnnotation.json')\n",
    "\n",
    "# Test dataset\n",
    "LSP_COCO_Test_Dataset = create_COCO(list(np.array(imgs_path)[idx_test]), annotations[idx_test], NUM_KEYPOINTS)\n",
    "LSP_COCO_Test_Dataset.exportJson('./dataset/resize_annotations/', 'test_cocoAnnotation.json')"
   ]
  },
  {
   "cell_type": "code",
   "execution_count": 63,
   "id": "ed1af86d-c72d-46d0-8c75-d9adc4cb1c3c",
   "metadata": {
    "pycharm": {
     "name": "#%%\n"
    }
   },
   "outputs": [],
   "source": [
    "imgs_path = get_imagesPath(PATH_IMAGES)\n",
    "annotations = scipy.io.loadmat(PATH_ANNO)['joints']\n",
    "NUM_KEYPOINTS = 14\n",
    "LSP_COCO_Dataset = create_COCO(imgs_path, annotations, NUM_KEYPOINTS)"
   ]
  },
  {
   "cell_type": "code",
   "execution_count": 64,
   "id": "5ccb332e-40b1-48f1-b9c9-9afbe2b269bc",
   "metadata": {
    "pycharm": {
     "name": "#%%\n"
    }
   },
   "outputs": [],
   "source": [
    "LSP_COCO_Dataset.exportJson('./dataset/resize_annotations/', 'all_cocoAnnotation.json')"
   ]
  },
  {
   "cell_type": "markdown",
   "id": "462da839-b4c6-4766-96cb-661c75153e87",
   "metadata": {
    "tags": [],
    "pycharm": {
     "name": "#%% md\n"
    }
   },
   "source": [
    "### Prueba con Voxel 51"
   ]
  },
  {
   "cell_type": "code",
   "execution_count": 67,
   "id": "4d7bc54e-5ba0-457c-8dc5-fe1412d479d5",
   "metadata": {
    "pycharm": {
     "name": "#%%\n"
    }
   },
   "outputs": [],
   "source": [
    "import fiftyone as fo"
   ]
  },
  {
   "cell_type": "code",
   "execution_count": 96,
   "id": "cf225be4-eb5a-4fd0-9377-15adcb4c4a3d",
   "metadata": {
    "pycharm": {
     "name": "#%%\n"
    }
   },
   "outputs": [
    {
     "name": "stdout",
     "output_type": "stream",
     "text": []
    },
    {
     "name": "stdout",
     "output_type": "stream",
     "text": [
      " 100% |█████████████████| 200/200 [538.2ms elapsed, 0s remaining, 373.2 samples/s]      \n"
     ]
    }
   ],
   "source": [
    "# The path to the COCO labels JSON file\n",
    "labels_path = \"./dataset/resize_annotations/val_cocoAnnotation.json\"\n",
    "\n",
    "# Import the dataset\n",
    "dataset = fo.Dataset.from_dir(\n",
    "    dataset_type=fo.types.COCODetectionDataset,\n",
    "    data_path=PATH_IMAGES,\n",
    "    labels_path=labels_path,\n",
    "    include_id=True,\n",
    "    label_types=[\"keypoints\"],\n",
    ")"
   ]
  },
  {
   "cell_type": "code",
   "execution_count": 97,
   "id": "30579e21-2280-4272-bc93-57c0ea6bc3b8",
   "metadata": {
    "pycharm": {
     "name": "#%%\n"
    }
   },
   "outputs": [
    {
     "name": "stdout",
     "output_type": "stream",
     "text": [
      "Name:        2022.08.26.08.40.01\n",
      "Media type:  image\n",
      "Num samples: 200\n",
      "Persistent:  False\n",
      "Tags:        []\n",
      "Sample fields:\n",
      "    id:        fiftyone.core.fields.ObjectIdField\n",
      "    filepath:  fiftyone.core.fields.StringField\n",
      "    tags:      fiftyone.core.fields.ListField(fiftyone.core.fields.StringField)\n",
      "    metadata:  fiftyone.core.fields.EmbeddedDocumentField(fiftyone.core.metadata.ImageMetadata)\n",
      "    keypoints: fiftyone.core.fields.EmbeddedDocumentField(fiftyone.core.labels.Keypoints)\n",
      "    coco_id:   fiftyone.core.fields.IntField\n"
     ]
    }
   ],
   "source": [
    "print(dataset)"
   ]
  },
  {
   "cell_type": "code",
   "execution_count": 99,
   "id": "51f2eaf9-cdbb-4b89-9d70-5df72103a5ee",
   "metadata": {
    "pycharm": {
     "name": "#%%\n"
    }
   },
   "outputs": [
    {
     "data": {
      "text/html": [
       "\n",
       "        <iframe\n",
       "            width=\"100%\"\n",
       "            height=\"800\"\n",
       "            src=\"http://localhost:5151/?context=ipython&subscription=fa0e400d-4574-435e-b71a-26a6d3723424\"\n",
       "            frameborder=\"0\"\n",
       "            allowfullscreen\n",
       "            \n",
       "        ></iframe>\n",
       "        "
      ],
      "text/plain": [
       "<IPython.lib.display.IFrame at 0x26e53da2c10>"
      ]
     },
     "metadata": {},
     "output_type": "display_data"
    },
    {
     "name": "stdout",
     "output_type": "stream",
     "text": [
      "\n",
      "Could not connect session, trying again in 10 seconds\n",
      "\n",
      "Could not connect session, trying again in 10 seconds\n",
      "\n",
      "\n"
     ]
    }
   ],
   "source": [
    "session = fo.launch_app(dataset)"
   ]
  },
  {
   "cell_type": "code",
   "execution_count": null,
   "id": "b5a18e22-077f-4698-8bb0-1fc69c2280f9",
   "metadata": {
    "pycharm": {
     "name": "#%%\n"
    }
   },
   "outputs": [],
   "source": []
  },
  {
   "cell_type": "code",
   "execution_count": null,
   "id": "737d1904-83db-472d-ad46-3fc2cbfce2fb",
   "metadata": {
    "pycharm": {
     "name": "#%%\n"
    }
   },
   "outputs": [],
   "source": []
  }
 ],
 "metadata": {
  "kernelspec": {
   "display_name": "Python 3.9 (pytorch)",
   "language": "python",
   "name": "pytorch"
  },
  "language_info": {
   "codemirror_mode": {
    "name": "ipython",
    "version": 3
   },
   "file_extension": ".py",
   "mimetype": "text/x-python",
   "name": "python",
   "nbconvert_exporter": "python",
   "pygments_lexer": "ipython3",
   "version": "3.9.13"
  }
 },
 "nbformat": 4,
 "nbformat_minor": 5
}