{
 "cells": [
  {
   "cell_type": "markdown",
   "id": "3e11d1a5-c5f7-42ab-8539-8b50e89951cf",
   "metadata": {
    "pycharm": {
     "name": "#%% md\n"
    }
   },
   "source": [
    "### Anotaciones Label Studio"
   ]
  },
  {
   "cell_type": "code",
   "execution_count": 1,
   "id": "788de448-460b-4274-84f5-45267ca40a66",
   "metadata": {
    "pycharm": {
     "name": "#%%\n"
    }
   },
   "outputs": [],
   "source": [
    "ANNO_PATH = './annotations/'"
   ]
  },
  {
   "cell_type": "code",
   "execution_count": 2,
   "id": "7bb61429-118d-4b07-ac36-04eb405cdbb6",
   "metadata": {
    "pycharm": {
     "name": "#%%\n"
    }
   },
   "outputs": [],
   "source": [
    "import os\n",
    "import json\n",
    "import pandas as pd"
   ]
  },
  {
   "cell_type": "code",
   "execution_count": 3,
   "id": "48d9f1e3-3430-460c-83e7-2d6c101b7219",
   "metadata": {
    "pycharm": {
     "name": "#%%\n"
    }
   },
   "outputs": [],
   "source": [
    "anno_json = json.load(open(os.path.join(ANNO_PATH, 'project-1-at-2022-08-23-16-59-07845cb9.json')))"
   ]
  },
  {
   "cell_type": "code",
   "execution_count": 94,
   "id": "cc4f6cfb-c2e8-4604-b05d-2a363cc878b2",
   "metadata": {
    "pycharm": {
     "name": "#%%\n"
    }
   },
   "outputs": [
    {
     "data": {
      "text/plain": [
       "8078"
      ]
     },
     "execution_count": 94,
     "metadata": {},
     "output_type": "execute_result"
    }
   ],
   "source": [
    "# https://towardsdatascience.com/all-pandas-json-normalize-you-should-know-for-flattening-json-13eae1dfb7dd\n",
    "pd.json_normalize(data = anno_json, record_path = ['annotations',['result']])['original_height'].unique()[0]"
   ]
  },
  {
   "cell_type": "code",
   "execution_count": 206,
   "id": "aad2915a-2800-4b21-9c05-e5459c85bdb0",
   "metadata": {
    "pycharm": {
     "name": "#%%\n"
    }
   },
   "outputs": [],
   "source": [
    "pd_table = pd.json_normalize(data = anno_json, record_path = ['annotations',['result']])"
   ]
  },
  {
   "cell_type": "code",
   "execution_count": 208,
   "id": "083efb7e-352c-4d6f-9d06-8ac017d85144",
   "metadata": {
    "pycharm": {
     "name": "#%%\n"
    }
   },
   "outputs": [
    {
     "data": {
      "text/plain": [
       "31"
      ]
     },
     "execution_count": 208,
     "metadata": {},
     "output_type": "execute_result"
    }
   ],
   "source": [
    "pd_table.shape[0]"
   ]
  },
  {
   "cell_type": "code",
   "execution_count": 6,
   "id": "56e85e3c-7ff7-4068-ba06-5cadca20ab8e",
   "metadata": {
    "pycharm": {
     "name": "#%%\n"
    },
    "tags": []
   },
   "outputs": [],
   "source": [
    "all_x = pd_table['value.x'].to_numpy()\n",
    "all_y = pd_table['value.y'].to_numpy()\n",
    "all_labels = [label[0] for label in pd_table['value.keypointlabels']]"
   ]
  },
  {
   "cell_type": "code",
   "execution_count": 9,
   "id": "7faedc65-b50e-493f-80d3-b3bc1e2ffd3b",
   "metadata": {
    "collapsed": true,
    "jupyter": {
     "outputs_hidden": true
    },
    "pycharm": {
     "name": "#%%\n"
    },
    "tags": []
   },
   "outputs": [
    {
     "data": {
      "text/plain": [
       "['C2OT',\n",
       " 'C1AE',\n",
       " 'C1PE',\n",
       " 'C2CE',\n",
       " 'C2AI',\n",
       " 'C2PI',\n",
       " 'C7AS',\n",
       " 'C7PS',\n",
       " 'C7CE',\n",
       " 'C7AI',\n",
       " 'C7PI',\n",
       " 'T1AS',\n",
       " 'T1PS',\n",
       " 'T1CE',\n",
       " 'T1AI',\n",
       " 'T1PI',\n",
       " 'T5AS',\n",
       " 'T5PS',\n",
       " 'T12A',\n",
       " 'T12P',\n",
       " 'L1AS',\n",
       " 'L1PS',\n",
       " 'L4AS',\n",
       " 'L4PS',\n",
       " 'L4AI',\n",
       " 'L4PI',\n",
       " 'S1AS',\n",
       " 'S1MI',\n",
       " 'S1PS',\n",
       " 'F1HC',\n",
       " 'F2HC']"
      ]
     },
     "execution_count": 9,
     "metadata": {},
     "output_type": "execute_result"
    }
   ],
   "source": [
    "all_labels"
   ]
  },
  {
   "cell_type": "code",
   "execution_count": 116,
   "id": "b7cacf1c-325f-4032-a169-c1bc05f5f4a2",
   "metadata": {
    "pycharm": {
     "name": "#%%\n"
    }
   },
   "outputs": [
    {
     "data": {
      "text/plain": [
       "'5195996_Anonimo013_17407677_3.jpg'"
      ]
     },
     "execution_count": 116,
     "metadata": {},
     "output_type": "execute_result"
    }
   ],
   "source": [
    "# obtain filename\n",
    "(pd.json_normalize(data = anno_json)['file_upload'][0]).split('-')[-1]"
   ]
  },
  {
   "cell_type": "code",
   "execution_count": 155,
   "id": "ecb39834-de44-4829-bb43-9713417da447",
   "metadata": {
    "pycharm": {
     "name": "#%%\n"
    }
   },
   "outputs": [
    {
     "data": {
      "text/plain": [
       "17407677"
      ]
     },
     "execution_count": 155,
     "metadata": {},
     "output_type": "execute_result"
    }
   ],
   "source": [
    "int(((pd.json_normalize(data = anno_json)['file_upload'][0]).split('-')[-1]).split('_')[2])"
   ]
  },
  {
   "cell_type": "code",
   "execution_count": 38,
   "id": "c87bf58b-a552-4592-b1ff-84e60bcac9f7",
   "metadata": {
    "pycharm": {
     "name": "#%%\n"
    }
   },
   "outputs": [],
   "source": [
    "from os import walk\n",
    "# get all json files\n",
    "def get_all_json_files(path):\n",
    "    filenames = next(walk(path), (None, None, []))[2] # [] if no file\n",
    "    return filenames"
   ]
  },
  {
   "cell_type": "code",
   "execution_count": 115,
   "id": "533f1c30-5dc1-4f6e-80d5-4f691bcd2491",
   "metadata": {
    "pycharm": {
     "name": "#%%\n"
    }
   },
   "outputs": [
    {
     "data": {
      "text/plain": [
       "['project-1-at-2022-08-23-13-14-3e0784d1.json',\n",
       " 'project-1-at-2022-08-23-14-32-602ee745.json',\n",
       " 'project-1-at-2022-08-23-16-59-07845cb9.json']"
      ]
     },
     "execution_count": 115,
     "metadata": {},
     "output_type": "execute_result"
    }
   ],
   "source": [
    "get_all_json_files('./annotations/')"
   ]
  },
  {
   "cell_type": "code",
   "execution_count": 127,
   "id": "5b954e4c-2a53-4341-95b9-ae0759700b7e",
   "metadata": {
    "pycharm": {
     "name": "#%%\n"
    }
   },
   "outputs": [],
   "source": [
    "from src.data.coco_class import *"
   ]
  },
  {
   "cell_type": "code",
   "execution_count": 257,
   "id": "27e6fbf6-6940-4433-bb4a-fe1e95af4447",
   "metadata": {
    "pycharm": {
     "name": "#%%\n"
    },
    "tags": []
   },
   "outputs": [],
   "source": [
    "import numpy as np\n",
    "\n",
    "def get_keypoints(df_values, width, height):\n",
    "    x = ((df_values['value.x'].to_numpy()/100.)*width).astype(int)\n",
    "    y = ((df_values['value.y'].to_numpy()/100.)*height).astype(int)\n",
    "    \n",
    "    # reshape to [length,] to [length, 1]\n",
    "    x = x.reshape((x.shape[0],1))\n",
    "    y = y.reshape((y.shape[0],1))\n",
    "    visibility = np.ones((x.shape[0],1))*2\n",
    "    \n",
    "    # return numpy array (x.shape[0],3) -> (x, y, visibility)\n",
    "    return np.concatenate((x,y,visibility), axis = 1, dtype = 'float64')"
   ]
  },
  {
   "cell_type": "code",
   "execution_count": 268,
   "id": "f6a45daa-d412-4c16-8cdb-70f3e2d78d37",
   "metadata": {
    "pycharm": {
     "name": "#%%\n"
    }
   },
   "outputs": [],
   "source": [
    "def get_annotations(annotation_path, file_path):\n",
    "    anno_json = json.load(open(os.path.join(annotation_path, file_path)))\n",
    "    \n",
    "    # Extract Name from annotation:\n",
    "    fileName = (pd.json_normalize(data = anno_json)['file_upload'][0]).split('-')[-1]\n",
    "    \n",
    "    # Extract ID (Accession Number) from annotation:\n",
    "    fileID = fileName.split('_')[2]\n",
    "    \n",
    "    # Dataframe Values\n",
    "    df_values = pd.json_normalize(data = anno_json, record_path = ['annotations',['result']])\n",
    "    \n",
    "    # Obtain size of the image\n",
    "    width = df_values['original_width'].unique()[0]\n",
    "    height = df_values['original_height'].unique()[0]\n",
    "    \n",
    "    # Get all keypoint and transform them to [x, y, visibility = 2]\n",
    "    keypoints = get_keypoints(df_values, width, height)\n",
    "\n",
    "    return int(fileID), fileName, int(width), int(height), keypoints    "
   ]
  },
  {
   "cell_type": "code",
   "execution_count": 269,
   "id": "2249d95a-a528-4a0f-92da-10f1aac5e4b0",
   "metadata": {
    "pycharm": {
     "name": "#%%\n"
    }
   },
   "outputs": [],
   "source": [
    "from src.data.coco_class import ImageCOCO\n",
    "from datetime import datetime\n",
    "\n",
    "def create_COCO(root_anno_path, annotation_files):\n",
    "    currentDateTime = datetime.now().strftime('%Y-%m-%d')\n",
    "    coco = COCO()\n",
    "    coco.setInfo(Info(2022, \"1.0.0\", \"Spinogram_Dataset\", \"\", \"\", currentDateTime))\n",
    "    coco.addLicense(License(1, 'Hospital Italiano', 'https://www.hospitalitaliano.org.ar'))\n",
    "    coco.addCategorie(Categories(1, 'spine', 'spine', \n",
    "                             ['C2OT', 'C1AE', 'C1PE', 'C2CE', 'C2AI', 'C2PI', 'C7AS', 'C7PS', 'C7CE', 'C7AI', 'C7PI', 'T1AS',\n",
    "                             'T1PS', 'T1CE', 'T1AI', 'T1PI', 'T5AS', 'T5PS', 'T12A', 'T12P', 'L1AS', 'L1PS', 'L4AS', 'L4PS',\n",
    "                             'L4AI', 'L4PI', 'S1AS', 'S1MI', 'S1PS', 'F1HC', 'F2HC'], \n",
    "                             [[1, 2], [2, 3], [3, 4]]))\n",
    "    \n",
    "    annotationNumber = 1\n",
    "    \n",
    "    for file_path in annotation_files:\n",
    "        \n",
    "        fileId, fileName, width, height, keypoints = get_annotations(root_anno_path, file_path)\n",
    "                    \n",
    "        cocoImage = ImageCOCO(fileId, width, height, fileName, coco.getLicense().getId(), '', '', currentDateTime)\n",
    "        coco.addImage(cocoImage)\n",
    "\n",
    "        # Create annotation for image\n",
    "        annotation = Annotation(annotationNumber, cocoImage.getId(), 1, [], 0.00, [], 0,\n",
    "                                [coordinate for row in keypoints for coordinate in row], keypoints.shape[0])\n",
    "        coco.addAnnotation(annotation)\n",
    "        annotationNumber += 1\n",
    "    \n",
    "    return coco"
   ]
  },
  {
   "cell_type": "code",
   "execution_count": 270,
   "id": "81a89dcd-08ed-4eb9-8a70-fb0cb7b88bd2",
   "metadata": {
    "pycharm": {
     "name": "#%%\n"
    }
   },
   "outputs": [],
   "source": [
    "coco_file = create_COCO('./annotations/', get_all_json_files('./annotations/'))"
   ]
  },
  {
   "cell_type": "code",
   "execution_count": 271,
   "id": "cf0b7c4e-713f-497c-a006-35136d0e8bb9",
   "metadata": {
    "pycharm": {
     "name": "#%%\n"
    }
   },
   "outputs": [],
   "source": [
    "coco_file.exportJson('./annotations/coco/', 'test.json')"
   ]
  },
  {
   "cell_type": "code",
   "execution_count": 272,
   "id": "c52dfc17-2eae-4372-b073-e1e8280e426d",
   "metadata": {
    "pycharm": {
     "name": "#%%\n"
    }
   },
   "outputs": [
    {
     "data": {
      "text/plain": [
       "['project-1-at-2022-08-23-13-14-3e0784d1.json',\n",
       " 'project-1-at-2022-08-23-14-32-602ee745.json',\n",
       " 'project-1-at-2022-08-23-16-59-07845cb9.json']"
      ]
     },
     "execution_count": 272,
     "metadata": {},
     "output_type": "execute_result"
    }
   ],
   "source": [
    "get_all_json_files('./annotations/')"
   ]
  },
  {
   "cell_type": "markdown",
   "id": "7ba20014",
   "metadata": {},
   "source": [
    "### Uso de las funciones desarrolladas"
   ]
  },
  {
   "cell_type": "code",
   "execution_count": 1,
   "id": "5245eb76",
   "metadata": {},
   "outputs": [],
   "source": [
    "from helper.json_helper import get_all_json_files\n",
    "from helper.labelStudio_helper import create_LabelStudioDataset"
   ]
  },
  {
   "cell_type": "code",
   "execution_count": 2,
   "id": "4e0dba0a",
   "metadata": {},
   "outputs": [],
   "source": [
    "ANNO_PATH = './annotations/LabelStudio/'\n",
    "IMAGES_PATH = './data/imagesLabelStudio/' \n",
    "\n",
    "json_annotations = get_all_json_files(ANNO_PATH)"
   ]
  },
  {
   "cell_type": "code",
   "execution_count": 3,
   "id": "610261f4",
   "metadata": {},
   "outputs": [],
   "source": [
    "LabelStudioDataset = create_LabelStudioDataset(ANNO_PATH, json_annotations)"
   ]
  },
  {
   "cell_type": "code",
   "execution_count": 4,
   "id": "6a137b55",
   "metadata": {},
   "outputs": [],
   "source": [
    "LabelStudioDataset.exportJson('./data/datasetJson/', fileName='LabelStudioDataset.json')"
   ]
  },
  {
   "cell_type": "markdown",
   "id": "249b5c47-5921-4b87-971f-00050a41e845",
   "metadata": {
    "pycharm": {
     "name": "#%% md\n"
    },
    "tags": []
   },
   "source": [
    "### Prueba con Voxel 51"
   ]
  },
  {
   "cell_type": "code",
   "execution_count": 5,
   "id": "b6999a6b-c78b-43e1-b1de-2c3fb618adf9",
   "metadata": {
    "pycharm": {
     "name": "#%%\n"
    }
   },
   "outputs": [],
   "source": [
    "import fiftyone as fo"
   ]
  },
  {
   "cell_type": "code",
   "execution_count": 7,
   "id": "0193783b-8a07-48d7-84f1-e593c04b2e70",
   "metadata": {
    "pycharm": {
     "name": "#%%\n"
    }
   },
   "outputs": [
    {
     "name": "stdout",
     "output_type": "stream",
     "text": [
      " 100% |███████████████████| 10/10 [103.5ms elapsed, 0s remaining, 96.6 samples/s]     \n"
     ]
    }
   ],
   "source": [
    "# The path to the COCO labels JSON file\n",
    "labels_path = \"./data/datasetJson/LabelStudioDataset.json\"\n",
    "\n",
    "# Import the dataset\n",
    "dataset = fo.Dataset.from_dir(\n",
    "    dataset_type=fo.types.COCODetectionDataset,\n",
    "    data_path= IMAGES_PATH,\n",
    "    labels_path=labels_path,\n",
    "    include_id=True,\n",
    "    label_types=[\"keypoints\"],\n",
    "    extra_attrs = True,\n",
    "    classes = ['spine'],\n",
    ")"
   ]
  },
  {
   "cell_type": "code",
   "execution_count": 8,
   "id": "fc8d6ba1-3282-4c3e-acdf-3e9832d532b3",
   "metadata": {
    "pycharm": {
     "name": "#%%\n"
    }
   },
   "outputs": [
    {
     "name": "stdout",
     "output_type": "stream",
     "text": [
      "Name:        2022.09.13.11.03.33\n",
      "Media type:  image\n",
      "Num samples: 10\n",
      "Persistent:  False\n",
      "Tags:        []\n",
      "Sample fields:\n",
      "    id:        fiftyone.core.fields.ObjectIdField\n",
      "    filepath:  fiftyone.core.fields.StringField\n",
      "    tags:      fiftyone.core.fields.ListField(fiftyone.core.fields.StringField)\n",
      "    metadata:  fiftyone.core.fields.EmbeddedDocumentField(fiftyone.core.metadata.ImageMetadata)\n",
      "    keypoints: fiftyone.core.fields.EmbeddedDocumentField(fiftyone.core.labels.Keypoints)\n",
      "    coco_id:   fiftyone.core.fields.IntField\n"
     ]
    }
   ],
   "source": [
    "print(dataset)"
   ]
  },
  {
   "cell_type": "code",
   "execution_count": 9,
   "id": "39a84444-bda8-4536-9afe-118b02ecae4b",
   "metadata": {
    "pycharm": {
     "name": "#%%\n"
    }
   },
   "outputs": [
    {
     "data": {
      "text/plain": [
       "Name:        2022.09.13.11.03.33\n",
       "Media type:  image\n",
       "Num samples: 10\n",
       "Persistent:  False\n",
       "Tags:        []\n",
       "Sample fields:\n",
       "    id:        fiftyone.core.fields.ObjectIdField\n",
       "    filepath:  fiftyone.core.fields.StringField\n",
       "    tags:      fiftyone.core.fields.ListField(fiftyone.core.fields.StringField)\n",
       "    metadata:  fiftyone.core.fields.EmbeddedDocumentField(fiftyone.core.metadata.ImageMetadata)\n",
       "    keypoints: fiftyone.core.fields.EmbeddedDocumentField(fiftyone.core.labels.Keypoints)\n",
       "    coco_id:   fiftyone.core.fields.IntField"
      ]
     },
     "execution_count": 9,
     "metadata": {},
     "output_type": "execute_result"
    }
   ],
   "source": [
    "dataset"
   ]
  },
  {
   "cell_type": "code",
   "execution_count": 11,
   "id": "5a6a2ed5-6174-4811-8e80-4a13e7a7d33d",
   "metadata": {
    "pycharm": {
     "name": "#%%\n"
    }
   },
   "outputs": [
    {
     "data": {
      "text/html": [
       "\n",
       "        <iframe\n",
       "            width=\"100%\"\n",
       "            height=\"800\"\n",
       "            src=\"http://localhost:5151/?context=ipython&subscription=d13ddeeb-639c-4ca6-8824-7c94d6d6cb2a\"\n",
       "            frameborder=\"0\"\n",
       "            allowfullscreen\n",
       "            \n",
       "        ></iframe>\n",
       "        "
      ],
      "text/plain": [
       "<IPython.lib.display.IFrame at 0x2cbb1ea1460>"
      ]
     },
     "metadata": {},
     "output_type": "display_data"
    }
   ],
   "source": [
    "session = fo.launch_app(dataset)"
   ]
  },
  {
   "cell_type": "markdown",
   "id": "38221657",
   "metadata": {},
   "source": [
    "## Busqueda de los tags\n",
    "Maquina 1 - Philips: \n",
    "* (0008,0070)\tManufacturer\tPhilips Medical Systems\n",
    "* (0008,1090)\tManufacturer Model Name\tDigitalDiagnost\n",
    "* (0008,0080)\tInstitution Name\tSociedad Italiana de Beneficencia CUARTO 6 - NEA\n",
    "\n",
    "Maquina 2:\n",
    "* (0008,0070)\tManufacturer\tMED.e.COM SARL FRANCE\n",
    "* (0008,1090)\tManufacturer Model Name\tDuet FL\n",
    "* (0008,0080)\tInstitution Name\tHOSPITAL ITALIANO SAN JUSTO\n",
    "\n",
    "Maquina 3:\n",
    "* (0008,0070)\tManufacturer\tCarestream Health\n",
    "* (0008,1090)\tManufacturer Model Name\tDRX-Evolution\n",
    "* (0008,0080)\tInstitution Name\tHOSPITAL ITALIANO CENTRAL\n",
    "\n",
    "Posible tag de orientacion - (0020,0020)\n",
    "* Patient direction of the rows and columns of the image. Required if image does not require Image Orientatio(Patient) (0020,0037) and Image Position (Patient) (0020,0032) or if image does not require Image Orientation (Slide) (0048,0102). May be present otherwise. See Section C.7.6.1.1.1 for further explanation.\n",
    "\n",
    "* (0018,5101)\tView Position\tAP! Deja deteminar la posicion del paciente en la imagen - https://dicom.nema.org/medical/dicom/2018b/output/chtml/part03/sect_C.8.html"
   ]
  },
  {
   "cell_type": "markdown",
   "id": "cc6b89c7",
   "metadata": {},
   "source": [
    "## Prueba Orientation Annotations"
   ]
  },
  {
   "cell_type": "code",
   "execution_count": 1,
   "id": "ffb91ef8",
   "metadata": {},
   "outputs": [],
   "source": [
    "from helper.json_helper import get_all_json_files\n",
    "from helper.labelStudio_helper import create_OrientationDataset"
   ]
  },
  {
   "cell_type": "code",
   "execution_count": 2,
   "id": "cdd2e3b0",
   "metadata": {},
   "outputs": [],
   "source": [
    "ANNO_PATH = './annotations/OrientationLabel/'\n",
    "IMAGES_PATH = './data/imagesOrientation/' \n",
    "\n",
    "json_annotations = get_all_json_files(ANNO_PATH)"
   ]
  },
  {
   "cell_type": "code",
   "execution_count": 3,
   "id": "2fd4cf40",
   "metadata": {},
   "outputs": [],
   "source": [
    "categories = [\n",
    "    {'id': 1 , 'category': 'FRONTAL', 'supercategory': 'spine'},\n",
    "    {'id': 2 , 'category': 'PERFIL_DERECHO', 'supercategory': 'spine'},\n",
    "    {'id': 3 , 'category': 'PERFIL_IZQUIERDO', 'supercategory': 'spine'},\n",
    "]"
   ]
  },
  {
   "cell_type": "code",
   "execution_count": 4,
   "id": "5cff3291",
   "metadata": {},
   "outputs": [],
   "source": [
    "LabelStudioDataset = create_OrientationDataset(ANNO_PATH, json_annotations, categories)"
   ]
  },
  {
   "cell_type": "code",
   "execution_count": 5,
   "id": "1bd125b4",
   "metadata": {},
   "outputs": [],
   "source": [
    "LabelStudioDataset.exportJson('./data/datasetJson/', 'OrientationDataset.json')"
   ]
  },
  {
   "cell_type": "code",
   "execution_count": null,
   "id": "602a4231",
   "metadata": {},
   "outputs": [],
   "source": []
  }
 ],
 "metadata": {
  "kernelspec": {
   "display_name": "Python 3.9.13 ('torch')",
   "language": "python",
   "name": "python3"
  },
  "language_info": {
   "codemirror_mode": {
    "name": "ipython",
    "version": 3
   },
   "file_extension": ".py",
   "mimetype": "text/x-python",
   "name": "python",
   "nbconvert_exporter": "python",
   "pygments_lexer": "ipython3",
   "version": "3.9.13"
  },
  "vscode": {
   "interpreter": {
    "hash": "35ab2562b1634a5e5cec9bcec4150dec9b346d523d417bf7199f8e9738a7119e"
   }
  }
 },
 "nbformat": 4,
 "nbformat_minor": 5
}
