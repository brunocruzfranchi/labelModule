{
 "cells": [
  {
   "cell_type": "markdown",
   "metadata": {
    "collapsed": false,
    "pycharm": {
     "name": "#%% md\n"
    }
   },
   "source": [
    "# Anotaciones Label Studio"
   ]
  },
  {
   "cell_type": "code",
   "execution_count": 1,
   "metadata": {
    "collapsed": false,
    "pycharm": {
     "name": "#%%\n"
    }
   },
   "outputs": [],
   "source": [
    "from src.data.coco_class import *"
   ]
  },
  {
   "cell_type": "code",
   "execution_count": 2,
   "metadata": {
    "collapsed": false,
    "pycharm": {
     "name": "#%%\n"
    }
   },
   "outputs": [],
   "source": [
    "from helper.almaMedical_helper import getDicomPathFiles, getAnnotationDicoms, getAnnotations"
   ]
  },
  {
   "cell_type": "code",
   "execution_count": 3,
   "metadata": {
    "collapsed": false,
    "pycharm": {
     "name": "#%%\n"
    }
   },
   "outputs": [],
   "source": [
    "path_dataset = './notebooks/dataset/FILESET/'"
   ]
  },
  {
   "cell_type": "code",
   "execution_count": 9,
   "metadata": {
    "collapsed": false,
    "pycharm": {
     "name": "#%%\n"
    }
   },
   "outputs": [],
   "source": [
    "def create_COCO(dicom_files):\n",
    "    coco_ds = COCO(set_HIBA=True)\n",
    "    coco_ds.setInfo(Info(version=\"1.0.0\", description=\"Spinogram_Dataset\"))\n",
    "    coco_ds.addCategories(Categories(category_id=1, name='spine', supercategory='spine',\n",
    "                                     keypoints=['C2OT', 'C1AE', 'C1PE', 'C2CE', 'C2AI', 'C2PI', 'C7AS', 'C7PS', 'C7CE',\n",
    "                                                'C7AI', 'C7PI', 'T1AS', 'T1PS', 'T1CE', 'T1AI', 'T1PI', 'T5AS', 'T5PS',\n",
    "                                                'T12A', 'T12P', 'L1AS', 'L1PS', 'L4AS', 'L4PS', 'L4AI', 'L4PI', 'S1AS',\n",
    "                                                'S1MI', 'S1PS', 'F1HC', 'F2HC'],\n",
    "                                     skeleton=[]))\n",
    "\n",
    "    annotationNumber = 1\n",
    "\n",
    "    annotation_dicoms = getAnnotationDicoms(dicom_files)\n",
    "\n",
    "    for annotation_dicom in annotation_dicoms:\n",
    "\n",
    "        fileId, fileName, width, height, keypoints = getAnnotations(annotation_dicom, dicom_files)\n",
    "\n",
    "        cocoImage = ImageCOCO(image_id=fileId, width=width, height=height,\n",
    "                              file_name=fileName, license_id=coco_ds.getLicense().getId())\n",
    "        coco_ds.addImage(cocoImage)\n",
    "\n",
    "        # Create annotation for image\n",
    "        annotation = Annotation(annotation_id=annotationNumber, image_id=cocoImage.getId(),\n",
    "                                category_id=1, keypoints=[coordinate for row in keypoints for coordinate in row],\n",
    "                                num_keypoints=keypoints.shape[0])\n",
    "\n",
    "        coco_ds.addAnnotation(annotation)\n",
    "\n",
    "        annotationNumber += 1\n",
    "\n",
    "    return coco_ds"
   ]
  },
  {
   "cell_type": "code",
   "execution_count": 10,
   "metadata": {},
   "outputs": [
    {
     "data": {
      "text/plain": [
       "['./notebooks/dataset/FILESET/1036487/0/0/0',\n",
       " './notebooks/dataset/FILESET/1036487/0/0/1',\n",
       " './notebooks/dataset/FILESET/1036487/0/1/4',\n",
       " './notebooks/dataset/FILESET/1036487/0/2/2',\n",
       " './notebooks/dataset/FILESET/1036487/0/3/3']"
      ]
     },
     "execution_count": 10,
     "metadata": {},
     "output_type": "execute_result"
    }
   ],
   "source": [
    "getDicomPathFiles(path_dataset)"
   ]
  },
  {
   "cell_type": "code",
   "execution_count": 11,
   "metadata": {},
   "outputs": [],
   "source": [
    "annotation_dicoms = getAnnotationDicoms(getDicomPathFiles(path_dataset))"
   ]
  },
  {
   "cell_type": "code",
   "execution_count": 12,
   "metadata": {},
   "outputs": [
    {
     "data": {
      "text/plain": [
       "['./notebooks/dataset/FILESET/1036487/0/1/4']"
      ]
     },
     "execution_count": 12,
     "metadata": {},
     "output_type": "execute_result"
    }
   ],
   "source": [
    "annotation_dicoms"
   ]
  },
  {
   "cell_type": "code",
   "execution_count": 13,
   "metadata": {
    "collapsed": false,
    "pycharm": {
     "name": "#%%\n"
    }
   },
   "outputs": [],
   "source": [
    "dataset_test = create_COCO(getDicomPathFiles(path_dataset))"
   ]
  },
  {
   "cell_type": "code",
   "execution_count": 14,
   "metadata": {
    "collapsed": false,
    "pycharm": {
     "name": "#%%\n"
    }
   },
   "outputs": [],
   "source": [
    "dataset_test.exportJson('./notebooks/dataset/', 'test.json')"
   ]
  },
  {
   "cell_type": "code",
   "execution_count": 18,
   "metadata": {
    "collapsed": false,
    "pycharm": {
     "name": "#%%\n"
    }
   },
   "outputs": [],
   "source": []
  }
 ],
 "metadata": {
  "kernelspec": {
   "display_name": "Python 3.9.13 ('torch')",
   "language": "python",
   "name": "python3"
  },
  "language_info": {
   "codemirror_mode": {
    "name": "ipython",
    "version": 3
   },
   "file_extension": ".py",
   "mimetype": "text/x-python",
   "name": "python",
   "nbconvert_exporter": "python",
   "pygments_lexer": "ipython3",
   "version": "3.9.13"
  },
  "vscode": {
   "interpreter": {
    "hash": "f3cd6978b99ff6f8dc226ee269dc6b2a90246b667335fa2f5ebfb32daaf1dac1"
   }
  }
 },
 "nbformat": 4,
 "nbformat_minor": 0
}
