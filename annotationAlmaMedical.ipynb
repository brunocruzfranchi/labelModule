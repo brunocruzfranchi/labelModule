{
 "cells": [
  {
   "cell_type": "markdown",
   "metadata": {
    "collapsed": false,
    "pycharm": {
     "name": "#%% md\n"
    }
   },
   "source": [
    "# Anotaciones Label Studio"
   ]
  },
  {
   "cell_type": "code",
   "execution_count": 1,
   "metadata": {
    "collapsed": false,
    "pycharm": {
     "name": "#%%\n"
    }
   },
   "outputs": [],
   "source": [
    "from src.data.coco_class import *"
   ]
  },
  {
   "cell_type": "code",
   "execution_count": 2,
   "metadata": {
    "collapsed": false,
    "pycharm": {
     "name": "#%%\n"
    }
   },
   "outputs": [],
   "source": [
    "from helper.almaMedical_helper import getDicomPathFiles, getAnnotationDicoms, getAnnotations"
   ]
  },
  {
   "cell_type": "code",
   "execution_count": 3,
   "metadata": {
    "collapsed": false,
    "pycharm": {
     "name": "#%%\n"
    }
   },
   "outputs": [],
   "source": [
    "path_dataset = './notebooks/dataset/FILESET/'"
   ]
  },
  {
   "cell_type": "code",
   "execution_count": 9,
   "metadata": {
    "collapsed": false,
    "pycharm": {
     "name": "#%%\n"
    }
   },
   "outputs": [],
   "source": [
    "def create_COCO(dicom_files):\n",
    "    coco_ds = COCO(set_HIBA=True)\n",
    "    coco_ds.setInfo(Info(version=\"1.0.0\", description=\"Spinogram_Dataset\"))\n",
    "    coco_ds.addCategories(Categories(category_id=1, name='spine', supercategory='spine',\n",
    "                                     keypoints=['C2OT', 'C1AE', 'C1PE', 'C2CE', 'C2AI', 'C2PI', 'C7AS', 'C7PS', 'C7CE',\n",
    "                                                'C7AI', 'C7PI', 'T1AS', 'T1PS', 'T1CE', 'T1AI', 'T1PI', 'T5AS', 'T5PS',\n",
    "                                                'T12A', 'T12P', 'L1AS', 'L1PS', 'L4AS', 'L4PS', 'L4AI', 'L4PI', 'S1AS',\n",
    "                                                'S1MI', 'S1PS', 'F1HC', 'F2HC'],\n",
    "                                     skeleton=[]))\n",
    "\n",
    "    annotationNumber = 1\n",
    "\n",
    "    annotation_dicoms = getAnnotationDicoms(dicom_files)\n",
    "\n",
    "    for annotation_dicom in annotation_dicoms:\n",
    "\n",
    "        fileId, fileName, width, height, keypoints = getAnnotations(annotation_dicom, dicom_files)\n",
    "\n",
    "        cocoImage = ImageCOCO(image_id=fileId, width=width, height=height,\n",
    "                              file_name=fileName, license_id=coco_ds.getLicense().getId())\n",
    "        coco_ds.addImage(cocoImage)\n",
    "\n",
    "        # Create annotation for image\n",
    "        annotation = Annotation(annotation_id=annotationNumber, image_id=cocoImage.getId(),\n",
    "                                category_id=1, keypoints=[coordinate for row in keypoints for coordinate in row],\n",
    "                                num_keypoints=keypoints.shape[0])\n",
    "\n",
    "        coco_ds.addAnnotation(annotation)\n",
    "\n",
    "        annotationNumber += 1\n",
    "\n",
    "    return coco_ds"
   ]
  },
  {
   "cell_type": "code",
   "execution_count": 10,
   "metadata": {},
   "outputs": [
    {
     "data": {
      "text/plain": [
       "['./notebooks/dataset/FILESET/1036487/0/0/0',\n",
       " './notebooks/dataset/FILESET/1036487/0/0/1',\n",
       " './notebooks/dataset/FILESET/1036487/0/1/4',\n",
       " './notebooks/dataset/FILESET/1036487/0/2/2',\n",
       " './notebooks/dataset/FILESET/1036487/0/3/3']"
      ]
     },
     "execution_count": 10,
     "metadata": {},
     "output_type": "execute_result"
    }
   ],
   "source": [
    "getDicomPathFiles(path_dataset)"
   ]
  },
  {
   "cell_type": "code",
   "execution_count": 11,
   "metadata": {},
   "outputs": [],
   "source": [
    "annotation_dicoms = getAnnotationDicoms(getDicomPathFiles(path_dataset))"
   ]
  },
  {
   "cell_type": "code",
   "execution_count": 12,
   "metadata": {},
   "outputs": [
    {
     "data": {
      "text/plain": [
       "['./notebooks/dataset/FILESET/1036487/0/1/4']"
      ]
     },
     "execution_count": 12,
     "metadata": {},
     "output_type": "execute_result"
    }
   ],
   "source": [
    "annotation_dicoms"
   ]
  },
  {
   "cell_type": "code",
   "execution_count": 13,
   "metadata": {
    "collapsed": false,
    "pycharm": {
     "name": "#%%\n"
    }
   },
   "outputs": [],
   "source": [
    "dataset_test = create_COCO(getDicomPathFiles(path_dataset))"
   ]
  },
  {
   "cell_type": "code",
   "execution_count": 14,
   "metadata": {
    "collapsed": false,
    "pycharm": {
     "name": "#%%\n"
    }
   },
   "outputs": [],
   "source": [
    "dataset_test.exportJson('./notebooks/dataset/', 'test.json')"
   ]
  },
  {
   "cell_type": "markdown",
   "metadata": {},
   "source": [
    "# Test de los métodos finalizados"
   ]
  },
  {
   "cell_type": "code",
   "execution_count": 6,
   "metadata": {
    "collapsed": false,
    "pycharm": {
     "name": "#%%\n"
    }
   },
   "outputs": [],
   "source": [
    "from helper.almaMedical_helper import getDicomPathFiles, create_AlmaMedicalDataset"
   ]
  },
  {
   "cell_type": "code",
   "execution_count": 7,
   "metadata": {},
   "outputs": [],
   "source": [
    "DICOM_PATH = './data/imagesAlma/'"
   ]
  },
  {
   "cell_type": "code",
   "execution_count": 8,
   "metadata": {},
   "outputs": [],
   "source": [
    "Dicom_paths = getDicomPathFiles(DICOM_PATH)"
   ]
  },
  {
   "cell_type": "code",
   "execution_count": 9,
   "metadata": {},
   "outputs": [],
   "source": [
    "AlmaDataset = create_AlmaMedicalDataset(Dicom_paths)"
   ]
  },
  {
   "cell_type": "code",
   "execution_count": 10,
   "metadata": {},
   "outputs": [],
   "source": [
    "AlmaDataset.exportJson('./data/datasetJson/', 'AlmaDataset.json')"
   ]
  },
  {
   "cell_type": "markdown",
   "id": "249b5c47-5921-4b87-971f-00050a41e845",
   "metadata": {
    "pycharm": {
     "name": "#%% md\n"
    },
    "tags": []
   },
   "source": [
    "### Prueba con Voxel 51"
   ]
  },
  {
   "cell_type": "code",
   "execution_count": 1,
   "id": "b6999a6b-c78b-43e1-b1de-2c3fb618adf9",
   "metadata": {
    "pycharm": {
     "name": "#%%\n"
    }
   },
   "outputs": [],
   "source": [
    "import fiftyone as fo"
   ]
  },
  {
   "cell_type": "code",
   "execution_count": 11,
   "id": "0193783b-8a07-48d7-84f1-e593c04b2e70",
   "metadata": {
    "pycharm": {
     "name": "#%%\n"
    }
   },
   "outputs": [
    {
     "name": "stdout",
     "output_type": "stream",
     "text": [
      " 100% |█████████████████████| 2/2 [205.2ms elapsed, 0s remaining, 9.7 samples/s]      \n"
     ]
    }
   ],
   "source": [
    "# The path to the COCO labels JSON file\n",
    "labels_path = \"./data/datasetJson/AlmaDataset.json\"\n",
    "\n",
    "# Import the dataset\n",
    "dataset = fo.Dataset.from_dir(\n",
    "    dataset_type=fo.types.COCODetectionDataset,\n",
    "    data_path= './data/imagesAlma/JPG/',\n",
    "    labels_path=labels_path,\n",
    "    include_id=True,\n",
    "    label_types=[\"keypoints\"],\n",
    "    extra_attrs = True,\n",
    "    classes = ['spine'],\n",
    ")"
   ]
  },
  {
   "cell_type": "code",
   "execution_count": 12,
   "id": "fc8d6ba1-3282-4c3e-acdf-3e9832d532b3",
   "metadata": {
    "pycharm": {
     "name": "#%%\n"
    }
   },
   "outputs": [
    {
     "name": "stdout",
     "output_type": "stream",
     "text": [
      "Name:        2022.09.16.13.42.24\n",
      "Media type:  image\n",
      "Num samples: 2\n",
      "Persistent:  False\n",
      "Tags:        []\n",
      "Sample fields:\n",
      "    id:        fiftyone.core.fields.ObjectIdField\n",
      "    filepath:  fiftyone.core.fields.StringField\n",
      "    tags:      fiftyone.core.fields.ListField(fiftyone.core.fields.StringField)\n",
      "    metadata:  fiftyone.core.fields.EmbeddedDocumentField(fiftyone.core.metadata.ImageMetadata)\n",
      "    keypoints: fiftyone.core.fields.EmbeddedDocumentField(fiftyone.core.labels.Keypoints)\n",
      "    coco_id:   fiftyone.core.fields.IntField\n"
     ]
    }
   ],
   "source": [
    "print(dataset)"
   ]
  },
  {
   "cell_type": "code",
   "execution_count": 13,
   "id": "39a84444-bda8-4536-9afe-118b02ecae4b",
   "metadata": {
    "pycharm": {
     "name": "#%%\n"
    }
   },
   "outputs": [
    {
     "data": {
      "text/plain": [
       "Name:        2022.09.16.13.42.24\n",
       "Media type:  image\n",
       "Num samples: 2\n",
       "Persistent:  False\n",
       "Tags:        []\n",
       "Sample fields:\n",
       "    id:        fiftyone.core.fields.ObjectIdField\n",
       "    filepath:  fiftyone.core.fields.StringField\n",
       "    tags:      fiftyone.core.fields.ListField(fiftyone.core.fields.StringField)\n",
       "    metadata:  fiftyone.core.fields.EmbeddedDocumentField(fiftyone.core.metadata.ImageMetadata)\n",
       "    keypoints: fiftyone.core.fields.EmbeddedDocumentField(fiftyone.core.labels.Keypoints)\n",
       "    coco_id:   fiftyone.core.fields.IntField"
      ]
     },
     "execution_count": 13,
     "metadata": {},
     "output_type": "execute_result"
    }
   ],
   "source": [
    "dataset"
   ]
  },
  {
   "cell_type": "code",
   "execution_count": 15,
   "id": "5a6a2ed5-6174-4811-8e80-4a13e7a7d33d",
   "metadata": {
    "pycharm": {
     "name": "#%%\n"
    }
   },
   "outputs": [
    {
     "data": {
      "text/html": [
       "\n",
       "        <iframe\n",
       "            width=\"100%\"\n",
       "            height=\"800\"\n",
       "            src=\"http://localhost:5151/?context=ipython&subscription=1c12d2aa-5c37-4772-b145-20cffbfa0fd5\"\n",
       "            frameborder=\"0\"\n",
       "            allowfullscreen\n",
       "            \n",
       "        ></iframe>\n",
       "        "
      ],
      "text/plain": [
       "<IPython.lib.display.IFrame at 0x244c87239a0>"
      ]
     },
     "metadata": {},
     "output_type": "display_data"
    }
   ],
   "source": [
    "session = fo.launch_app(dataset)"
   ]
  },
  {
   "cell_type": "code",
   "execution_count": null,
   "metadata": {},
   "outputs": [],
   "source": []
  },
  {
   "cell_type": "code",
   "execution_count": null,
   "metadata": {},
   "outputs": [],
   "source": []
  }
 ],
 "metadata": {
  "kernelspec": {
   "display_name": "Python 3.9.13 ('torch')",
   "language": "python",
   "name": "python3"
  },
  "language_info": {
   "codemirror_mode": {
    "name": "ipython",
    "version": 3
   },
   "file_extension": ".py",
   "mimetype": "text/x-python",
   "name": "python",
   "nbconvert_exporter": "python",
   "pygments_lexer": "ipython3",
   "version": "3.9.13"
  },
  "vscode": {
   "interpreter": {
    "hash": "3241db0b51f550ebc5dfbcd5a03f16e9bca57ea9e206d5798afb9ea59697a50d"
   }
  }
 },
 "nbformat": 4,
 "nbformat_minor": 0
}
